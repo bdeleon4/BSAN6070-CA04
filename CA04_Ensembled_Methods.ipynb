{
  "nbformat": 4,
  "nbformat_minor": 0,
  "metadata": {
    "colab": {
      "name": "CA04 Ensembled Methods",
      "provenance": []
    },
    "kernelspec": {
      "name": "python3",
      "display_name": "Python 3"
    }
  },
  "cells": [
    {
      "cell_type": "code",
      "metadata": {
        "id": "wIlzBRMYOh6M",
        "colab_type": "code",
        "colab": {}
      },
      "source": [
        "import numpy as np\n",
        "import pandas as pd\n",
        "import matplotlib.pyplot as plt\n",
        "from sklearn.model_selection import train_test_split\n",
        "from sklearn.tree import DecisionTreeClassifier \n",
        "from sklearn.externals.six import StringIO  \n",
        "from IPython.display import Image  \n",
        "from sklearn.tree import export_graphviz\n",
        "import pydotplus\n",
        "from sklearn.metrics import confusion_matrix, classification_report, precision_recall_fscore_support, accuracy_score, roc_curve, auc\n",
        "from sklearn import metrics\n",
        "from sklearn.ensemble import AdaBoostClassifier\n",
        "from sklearn.ensemble import GradientBoostingClassifier\n",
        "from sklearn.metrics import accuracy_score, roc_curve, roc_auc_score"
      ],
      "execution_count": 0,
      "outputs": []
    },
    {
      "cell_type": "code",
      "metadata": {
        "id": "uKgSy6EQOkJF",
        "colab_type": "code",
        "colab": {}
      },
      "source": [
        "#open file into a dataframe\n",
        "census = pd.read_csv('https://github.com/ArinB/MSBA-CA-03-Decision-Trees/blob/master/census_data.csv?raw=true')"
      ],
      "execution_count": 0,
      "outputs": []
    },
    {
      "cell_type": "code",
      "metadata": {
        "id": "Fi8c8_k7O6WY",
        "colab_type": "code",
        "outputId": "7003251e-c072-4077-d26a-ab1e75588b50",
        "colab": {
          "base_uri": "https://localhost:8080/",
          "height": 547
        }
      },
      "source": [
        "#exploring the data\n",
        "census.describe()\n",
        "census.info()\n",
        "census.head()"
      ],
      "execution_count": 3,
      "outputs": [
        {
          "output_type": "stream",
          "text": [
            "<class 'pandas.core.frame.DataFrame'>\n",
            "RangeIndex: 48842 entries, 0 to 48841\n",
            "Data columns (total 11 columns):\n",
            "hours_per_week_bin    48842 non-null object\n",
            "occupation_bin        48842 non-null object\n",
            "msr_bin               48842 non-null object\n",
            "capital_gl_bin        48842 non-null object\n",
            "race_sex_bin          48842 non-null object\n",
            "education_num_bin     48842 non-null object\n",
            "education_bin         48842 non-null object\n",
            "workclass_bin         48842 non-null object\n",
            "age_bin               48842 non-null object\n",
            "flag                  48842 non-null object\n",
            "y                     48842 non-null int64\n",
            "dtypes: int64(1), object(10)\n",
            "memory usage: 4.1+ MB\n"
          ],
          "name": "stdout"
        },
        {
          "output_type": "execute_result",
          "data": {
            "text/html": [
              "<div>\n",
              "<style scoped>\n",
              "    .dataframe tbody tr th:only-of-type {\n",
              "        vertical-align: middle;\n",
              "    }\n",
              "\n",
              "    .dataframe tbody tr th {\n",
              "        vertical-align: top;\n",
              "    }\n",
              "\n",
              "    .dataframe thead th {\n",
              "        text-align: right;\n",
              "    }\n",
              "</style>\n",
              "<table border=\"1\" class=\"dataframe\">\n",
              "  <thead>\n",
              "    <tr style=\"text-align: right;\">\n",
              "      <th></th>\n",
              "      <th>hours_per_week_bin</th>\n",
              "      <th>occupation_bin</th>\n",
              "      <th>msr_bin</th>\n",
              "      <th>capital_gl_bin</th>\n",
              "      <th>race_sex_bin</th>\n",
              "      <th>education_num_bin</th>\n",
              "      <th>education_bin</th>\n",
              "      <th>workclass_bin</th>\n",
              "      <th>age_bin</th>\n",
              "      <th>flag</th>\n",
              "      <th>y</th>\n",
              "    </tr>\n",
              "  </thead>\n",
              "  <tbody>\n",
              "    <tr>\n",
              "      <th>0</th>\n",
              "      <td>b. 31-40</td>\n",
              "      <td>b. Mid - Low</td>\n",
              "      <td>b. Mid</td>\n",
              "      <td>c. &gt; 0</td>\n",
              "      <td>c. High</td>\n",
              "      <td>c. 13</td>\n",
              "      <td>c. Bachelors</td>\n",
              "      <td>b. income</td>\n",
              "      <td>d. 36-40 &amp; 56-60</td>\n",
              "      <td>train</td>\n",
              "      <td>0</td>\n",
              "    </tr>\n",
              "    <tr>\n",
              "      <th>1</th>\n",
              "      <td>a. 0-30</td>\n",
              "      <td>e. High</td>\n",
              "      <td>c. High</td>\n",
              "      <td>a. = 0</td>\n",
              "      <td>c. High</td>\n",
              "      <td>c. 13</td>\n",
              "      <td>c. Bachelors</td>\n",
              "      <td>b. income</td>\n",
              "      <td>e. 40-55</td>\n",
              "      <td>train</td>\n",
              "      <td>0</td>\n",
              "    </tr>\n",
              "    <tr>\n",
              "      <th>2</th>\n",
              "      <td>b. 31-40</td>\n",
              "      <td>a. Low</td>\n",
              "      <td>b. Mid</td>\n",
              "      <td>a. = 0</td>\n",
              "      <td>c. High</td>\n",
              "      <td>b. 9-12</td>\n",
              "      <td>b. Mid</td>\n",
              "      <td>b. income</td>\n",
              "      <td>d. 36-40 &amp; 56-60</td>\n",
              "      <td>train</td>\n",
              "      <td>0</td>\n",
              "    </tr>\n",
              "    <tr>\n",
              "      <th>3</th>\n",
              "      <td>b. 31-40</td>\n",
              "      <td>a. Low</td>\n",
              "      <td>c. High</td>\n",
              "      <td>a. = 0</td>\n",
              "      <td>b. Mid</td>\n",
              "      <td>a. 0-8</td>\n",
              "      <td>a. Low</td>\n",
              "      <td>b. income</td>\n",
              "      <td>e. 40-55</td>\n",
              "      <td>train</td>\n",
              "      <td>0</td>\n",
              "    </tr>\n",
              "    <tr>\n",
              "      <th>4</th>\n",
              "      <td>b. 31-40</td>\n",
              "      <td>e. High</td>\n",
              "      <td>c. High</td>\n",
              "      <td>a. = 0</td>\n",
              "      <td>a. Low</td>\n",
              "      <td>c. 13</td>\n",
              "      <td>c. Bachelors</td>\n",
              "      <td>b. income</td>\n",
              "      <td>b. 26-30 &amp; 71-100</td>\n",
              "      <td>train</td>\n",
              "      <td>0</td>\n",
              "    </tr>\n",
              "  </tbody>\n",
              "</table>\n",
              "</div>"
            ],
            "text/plain": [
              "  hours_per_week_bin occupation_bin  msr_bin  ...            age_bin   flag  y\n",
              "0           b. 31-40   b. Mid - Low   b. Mid  ...   d. 36-40 & 56-60  train  0\n",
              "1            a. 0-30        e. High  c. High  ...           e. 40-55  train  0\n",
              "2           b. 31-40         a. Low   b. Mid  ...   d. 36-40 & 56-60  train  0\n",
              "3           b. 31-40         a. Low  c. High  ...           e. 40-55  train  0\n",
              "4           b. 31-40        e. High  c. High  ...  b. 26-30 & 71-100  train  0\n",
              "\n",
              "[5 rows x 11 columns]"
            ]
          },
          "metadata": {
            "tags": []
          },
          "execution_count": 3
        }
      ]
    },
    {
      "cell_type": "code",
      "metadata": {
        "id": "Bp7PlXiwVE_K",
        "colab_type": "code",
        "colab": {}
      },
      "source": [
        "#split the data into training and testing dataset\n",
        "variables = ['age_bin', 'capital_gl_bin', 'education_bin', 'hours_per_week_bin', 'msr_bin', 'occupation_bin', 'race_sex_bin']\n",
        "x_train = census.loc[census['flag']=='train',variables]\n",
        "y_train = census.loc[census['flag']=='train','y']\n",
        "x_train = pd.get_dummies(x_train, columns=variables, drop_first=True)\n",
        "\n",
        "x_test = census.loc[census['flag']=='test',variables]\n",
        "y_test = census.loc[census['flag']=='test','y']\n",
        "x_test = pd.get_dummies(x_test, columns=variables, drop_first=True)"
      ],
      "execution_count": 0,
      "outputs": []
    },
    {
      "cell_type": "markdown",
      "metadata": {
        "id": "nYzwq9S9YgUF",
        "colab_type": "text"
      },
      "source": [
        "Random Forest Classifier"
      ]
    },
    {
      "cell_type": "code",
      "metadata": {
        "id": "54lrBYDvO_a6",
        "colab_type": "code",
        "outputId": "eba6bd58-02dc-4673-fbb6-13075e27c863",
        "colab": {
          "base_uri": "https://localhost:8080/",
          "height": 285
        }
      },
      "source": [
        "from sklearn.ensemble import RandomForestClassifier\n",
        "\n",
        "results = []\n",
        "n_estimators=[100,150,200,250,300,350,400,450,500]\n",
        "for trees in n_estimators: \n",
        "    model = RandomForestClassifier(n_estimators=trees, random_state=101)\n",
        "    model.fit(x_train, y_train)\n",
        "    y_pred = model.predict(x_test)\n",
        "    accuracy = np.mean(y_test==y_pred)\n",
        "    results.append(accuracy)\n",
        "\n",
        "plt.figure(figsize=(8,4))\n",
        "pd.Series(results, n_estimators).plot(color=\"darkred\",marker=\"o\")"
      ],
      "execution_count": 5,
      "outputs": [
        {
          "output_type": "execute_result",
          "data": {
            "text/plain": [
              "<matplotlib.axes._subplots.AxesSubplot at 0x7f078f95ffd0>"
            ]
          },
          "metadata": {
            "tags": []
          },
          "execution_count": 5
        },
        {
          "output_type": "display_data",
          "data": {
            "image/png": "[encoded data removed]",
            "text/plain": [
              "<Figure size 576x288 with 1 Axes>"
            ]
          },
          "metadata": {
            "tags": []
          }
        }
      ]
    },
    {
      "cell_type": "code",
      "metadata": {
        "id": "BJrVuNtc8keA",
        "colab_type": "code",
        "colab": {
          "base_uri": "https://localhost:8080/",
          "height": 51
        },
        "outputId": "419883fb-da8c-4d7e-f06d-2287862bedde"
      },
      "source": [
        "#Best value estimator\n",
        "\n",
        "rfc = RandomForestClassifier(n_estimators=450,random_state=101)\n",
        "rfc.fit(x_train,y_train)\n",
        "\n",
        "y_pred = rfc.predict(x_test)\n",
        "\n",
        "rf_acc = accuracy_score(y_test,y_pred)\n",
        "y_score=rfc.predict_proba(x_test)[:,1]\n",
        "rf_auc = roc_auc_score(y_test,y_score)\n",
        "print('Accuracy', rf_acc)\n",
        "print('AUC',rf_auc)"
      ],
      "execution_count": 24,
      "outputs": [
        {
          "output_type": "stream",
          "text": [
            "Accuracy 0.8383391683557521\n",
            "AUC 0.8807112533797694\n"
          ],
          "name": "stdout"
        }
      ]
    },
    {
      "cell_type": "markdown",
      "metadata": {
        "id": "eJOOrD2jrPL1",
        "colab_type": "text"
      },
      "source": [
        "Adaboost Classifier"
      ]
    },
    {
      "cell_type": "code",
      "metadata": {
        "id": "MTMxvSTnWVR3",
        "colab_type": "code",
        "outputId": "781e0800-10a9-4fd0-c9f7-9ca8525ace8f",
        "colab": {
          "base_uri": "https://localhost:8080/",
          "height": 282
        }
      },
      "source": [
        "from sklearn.ensemble import AdaBoostClassifier\n",
        "\n",
        "results = []\n",
        "n_estimators=[100,150,200,250,300,350,400,450,500]\n",
        "for trees in n_estimators: \n",
        "    model = AdaBoostClassifier(n_estimators=trees, random_state=101)\n",
        "    model.fit(x_train, y_train)\n",
        "    y_pred = model.predict(x_test)\n",
        "    accuracy = np.mean(y_test==y_pred)\n",
        "    results.append(accuracy)\n",
        "\n",
        "plt.figure(figsize=(8,4))\n",
        "pd.Series(results, n_estimators).plot(color=\"darkred\",marker=\"o\")"
      ],
      "execution_count": 6,
      "outputs": [
        {
          "output_type": "execute_result",
          "data": {
            "text/plain": [
              "<matplotlib.axes._subplots.AxesSubplot at 0x7f078f983828>"
            ]
          },
          "metadata": {
            "tags": []
          },
          "execution_count": 6
        },
        {
          "output_type": "display_data",
          "data": {
            "image/png": "[encoded data removed]",
            "text/plain": [
              "<Figure size 576x288 with 1 Axes>"
            ]
          },
          "metadata": {
            "tags": []
          }
        }
      ]
    },
    {
      "cell_type": "code",
      "metadata": {
        "id": "1yHxwiHN99d5",
        "colab_type": "code",
        "colab": {
          "base_uri": "https://localhost:8080/",
          "height": 51
        },
        "outputId": "9c86c10d-d7cb-4f3a-ae16-1e3837018b8a"
      },
      "source": [
        "#Best estimator value\n",
        "\n",
        "ada = AdaBoostClassifier(n_estimators=150,random_state=101)\n",
        "ada.fit(x_train,y_train)\n",
        "y_pred = ada.predict(x_test)\n",
        "\n",
        "ada_acc = accuracy_score(y_test,y_pred)\n",
        "y_score=ada.predict_proba(x_test)[:,1]\n",
        "ada_auc = roc_auc_score(y_test,y_score)\n",
        "\n",
        "print('AUC',ada_auc)\n",
        "print('Accuracy', ada_acc)"
      ],
      "execution_count": 26,
      "outputs": [
        {
          "output_type": "stream",
          "text": [
            "AUC 0.8972438374816858\n",
            "Accuracy 0.8455868804127511\n"
          ],
          "name": "stdout"
        }
      ]
    },
    {
      "cell_type": "markdown",
      "metadata": {
        "id": "qtooKPU1uBbp",
        "colab_type": "text"
      },
      "source": [
        "Gradient Boost Classifier"
      ]
    },
    {
      "cell_type": "code",
      "metadata": {
        "id": "U8ukafkquDzV",
        "colab_type": "code",
        "colab": {
          "base_uri": "https://localhost:8080/",
          "height": 282
        },
        "outputId": "69715213-bd52-457d-d59c-b9229a37a164"
      },
      "source": [
        "results = []\n",
        "n_estimators=[100,150,200,250,300,350,400,450,500]\n",
        "for trees in n_estimators: \n",
        "    model = GradientBoostingClassifier(n_estimators=trees, random_state=101)\n",
        "    model.fit(x_train, y_train)\n",
        "    y_pred = model.predict(x_test)\n",
        "    accuracy = np.mean(y_test==y_pred)\n",
        "    results.append(accuracy)\n",
        "\n",
        "plt.figure(figsize=(8,4))\n",
        "pd.Series(results, n_estimators).plot(color=\"darkred\",marker=\"o\")"
      ],
      "execution_count": 7,
      "outputs": [
        {
          "output_type": "execute_result",
          "data": {
            "text/plain": [
              "<matplotlib.axes._subplots.AxesSubplot at 0x7f078f3dc668>"
            ]
          },
          "metadata": {
            "tags": []
          },
          "execution_count": 7
        },
        {
          "output_type": "display_data",
          "data": {
            "image/png": "[encoded data removed]",
            "text/plain": [
              "<Figure size 576x288 with 1 Axes>"
            ]
          },
          "metadata": {
            "tags": []
          }
        }
      ]
    },
    {
      "cell_type": "code",
      "metadata": {
        "id": "FBbyeaGv-b2w",
        "colab_type": "code",
        "colab": {
          "base_uri": "https://localhost:8080/",
          "height": 51
        },
        "outputId": "5f661759-3a1f-43d6-cae2-4c8cc5ef1f0c"
      },
      "source": [
        "#best estimator value\n",
        "\n",
        "gb = GradientBoostingClassifier(n_estimators=250,random_state=101)\n",
        "gb.fit(x_train,y_train)\n",
        "y_pred = gb.predict(x_test)\n",
        "\n",
        "gb_acc = accuracy_score(y_test,y_pred)\n",
        "y_score = gb.predict_proba(x_test)[:,1]\n",
        "gb_auc = roc_auc_score(y_test, y_pred)\n",
        "\n",
        "print('AUC', gb_auc)\n",
        "print('Accuracy', gb_acc)"
      ],
      "execution_count": 27,
      "outputs": [
        {
          "output_type": "stream",
          "text": [
            "AUC 0.7567725025044427\n",
            "Accuracy 0.8466924636078865\n"
          ],
          "name": "stdout"
        }
      ]
    },
    {
      "cell_type": "markdown",
      "metadata": {
        "id": "wPfagp-ps53P",
        "colab_type": "text"
      },
      "source": [
        "XBG Boost Classifier"
      ]
    },
    {
      "cell_type": "code",
      "metadata": {
        "id": "1ehgC6Pxs4sK",
        "colab_type": "code",
        "colab": {}
      },
      "source": [
        "!pip install xgboost\n",
        "import xgboost as xgb\n",
        "from xgboost import XGBClassifier\n",
        "from sklearn import datasets\n",
        "\n",
        "results = []\n",
        "n_estimators=[100,150,200,250,300,350,400,450,500]\n",
        "for trees in n_estimators: \n",
        "    model = XGBClassifier(n_estimators=trees, objective='binary:logistic', random_state=101)\n",
        "    model.fit(x_train, y_train)\n",
        "    y_pred = model.predict(x_test)\n",
        "    accuracy = np.mean(y_test==y_pred)\n",
        "    results.append(accuracy)\n",
        "\n",
        "plt.figure(figsize=(8,4))\n",
        "pd.Series(results, n_estimators).plot(color=\"darkred\",marker=\"o\")\n",
        "\n",
        "#I was not able to receive an output for this model because I kept receiving this error, \"feature_names may not contain [, ] or <\""
      ],
      "execution_count": 0,
      "outputs": []
    },
    {
      "cell_type": "markdown",
      "metadata": {
        "id": "so0z2MEn4Vqu",
        "colab_type": "text"
      },
      "source": [
        "## Compare Performance"
      ]
    },
    {
      "cell_type": "code",
      "metadata": {
        "id": "O2HmIENCAMZQ",
        "colab_type": "code",
        "colab": {}
      },
      "source": [
        "data_dict = {'RandomForest':{'Accuracy':rf_acc,'AUC':rf_auc, 'Random_State':101,'n_estimator':450},'AdaBoost':{'Accuracy':ada_acc,'AUC':ada_auc,'Random_State':101,'n_estimator':150},\n",
        "        'GradientBoost':{'Accuracy':gb_acc,'AUC':gb_auc,'Random_State':101,'n_estimator':250},'XGBoost':{'Accuracy': 0, 'AUC': 0, 'Random_State':101,'n_estimator':250}}"
      ],
      "execution_count": 0,
      "outputs": []
    },
    {
      "cell_type": "code",
      "metadata": {
        "id": "5_tYY4sLA0bI",
        "colab_type": "code",
        "colab": {
          "base_uri": "https://localhost:8080/",
          "height": 173
        },
        "outputId": "9649956e-d431-43e9-8d5e-8ba7c9b5925b"
      },
      "source": [
        "performance = pd.DataFrame(data_dict)\n",
        "performance\n"
      ],
      "execution_count": 49,
      "outputs": [
        {
          "output_type": "execute_result",
          "data": {
            "text/html": [
              "<div>\n",
              "<style scoped>\n",
              "    .dataframe tbody tr th:only-of-type {\n",
              "        vertical-align: middle;\n",
              "    }\n",
              "\n",
              "    .dataframe tbody tr th {\n",
              "        vertical-align: top;\n",
              "    }\n",
              "\n",
              "    .dataframe thead th {\n",
              "        text-align: right;\n",
              "    }\n",
              "</style>\n",
              "<table border=\"1\" class=\"dataframe\">\n",
              "  <thead>\n",
              "    <tr style=\"text-align: right;\">\n",
              "      <th></th>\n",
              "      <th>RandomForest</th>\n",
              "      <th>AdaBoost</th>\n",
              "      <th>GradientBoost</th>\n",
              "      <th>XGBoost</th>\n",
              "    </tr>\n",
              "  </thead>\n",
              "  <tbody>\n",
              "    <tr>\n",
              "      <th>Accuracy</th>\n",
              "      <td>0.838339</td>\n",
              "      <td>0.845587</td>\n",
              "      <td>0.846692</td>\n",
              "      <td>0</td>\n",
              "    </tr>\n",
              "    <tr>\n",
              "      <th>AUC</th>\n",
              "      <td>0.880711</td>\n",
              "      <td>0.897244</td>\n",
              "      <td>0.756773</td>\n",
              "      <td>0</td>\n",
              "    </tr>\n",
              "    <tr>\n",
              "      <th>Random_State</th>\n",
              "      <td>101.000000</td>\n",
              "      <td>101.000000</td>\n",
              "      <td>101.000000</td>\n",
              "      <td>101</td>\n",
              "    </tr>\n",
              "    <tr>\n",
              "      <th>n_estimator</th>\n",
              "      <td>450.000000</td>\n",
              "      <td>150.000000</td>\n",
              "      <td>250.000000</td>\n",
              "      <td>250</td>\n",
              "    </tr>\n",
              "  </tbody>\n",
              "</table>\n",
              "</div>"
            ],
            "text/plain": [
              "              RandomForest    AdaBoost  GradientBoost  XGBoost\n",
              "Accuracy          0.838339    0.845587       0.846692        0\n",
              "AUC               0.880711    0.897244       0.756773        0\n",
              "Random_State    101.000000  101.000000     101.000000      101\n",
              "n_estimator     450.000000  150.000000     250.000000      250"
            ]
          },
          "metadata": {
            "tags": []
          },
          "execution_count": 49
        }
      ]
    }
  ]
}